{
  "nbformat": 4,
  "nbformat_minor": 0,
  "metadata": {
    "colab": {
      "provenance": []
    },
    "kernelspec": {
      "name": "python3",
      "display_name": "Python 3"
    },
    "language_info": {
      "name": "python"
    }
  },
  "cells": [
    {
      "cell_type": "markdown",
      "source": [],
      "metadata": {
        "id": "Ucv9oZT-dqb2"
      }
    },
    {
      "cell_type": "markdown",
      "source": [
        "# Python Basics for Astronomy\n"
      ],
      "metadata": {
        "id": "f6meGiyLewDB"
      }
    },
    {
      "cell_type": "markdown",
      "source": [],
      "metadata": {
        "id": "e5rrBn27flh3"
      }
    },
    {
      "cell_type": "code",
      "source": [
        "#  print command or first comment\n",
        "\n",
        "print ('hello world')"
      ],
      "metadata": {
        "colab": {
          "base_uri": "https://localhost:8080/"
        },
        "id": "AjUq0xjze27f",
        "outputId": "336300ff-336a-4467-84bf-1172eebfdc3e"
      },
      "execution_count": 1,
      "outputs": [
        {
          "output_type": "stream",
          "name": "stdout",
          "text": [
            "hello world\n"
          ]
        }
      ]
    },
    {
      "cell_type": "markdown",
      "source": [
        "Comments"
      ],
      "metadata": {
        "id": "wggfRcEYfwrV"
      }
    },
    {
      "cell_type": "code",
      "source": [
        "'''\n",
        "this is another multi line comment\n",
        "shown here\n",
        "'''"
      ],
      "metadata": {
        "colab": {
          "base_uri": "https://localhost:8080/",
          "height": 35
        },
        "id": "aPMKcAmGfwLT",
        "outputId": "03e4cf8d-c389-4bfd-8c1f-c59c69847cdc"
      },
      "execution_count": 2,
      "outputs": [
        {
          "output_type": "execute_result",
          "data": {
            "text/plain": [
              "'\\nthis is another multi line comment\\nshown here\\n'"
            ],
            "application/vnd.google.colaboratory.intrinsic+json": {
              "type": "string"
            }
          },
          "metadata": {},
          "execution_count": 2
        }
      ]
    },
    {
      "cell_type": "code",
      "source": [
        "# frtrtttr\n",
        "# dffdffdf\n",
        "# selected command forward slash\n",
        "# fds433443\n"
      ],
      "metadata": {
        "id": "Di8OF57dfWQU"
      },
      "execution_count": 3,
      "outputs": []
    },
    {
      "cell_type": "code",
      "source": [],
      "metadata": {
        "id": "A8MDgagUg6WW"
      },
      "execution_count": 3,
      "outputs": []
    },
    {
      "cell_type": "markdown",
      "source": [
        "2. Variables and Constants\n"
      ],
      "metadata": {
        "id": "rDrFjICEhBEd"
      }
    },
    {
      "cell_type": "markdown",
      "source": [
        "3. f-strings"
      ],
      "metadata": {
        "id": "8TMm9UJbhfys"
      }
    },
    {
      "cell_type": "code",
      "source": [
        "name_planet = 'Saturn'\n",
        "moons_planet = 150\n",
        "print(f\"Planet {name_planet} has {moons_planet} Moons\")"
      ],
      "metadata": {
        "colab": {
          "base_uri": "https://localhost:8080/"
        },
        "id": "_Dx7Zq46hJKg",
        "outputId": "f47471c5-99f8-4158-c134-e863626bd51c"
      },
      "execution_count": 9,
      "outputs": [
        {
          "output_type": "stream",
          "name": "stdout",
          "text": [
            "Planet Saturn has 150 Moons\n"
          ]
        }
      ]
    },
    {
      "cell_type": "markdown",
      "source": [],
      "metadata": {
        "id": "YObInn6HoYf7"
      }
    },
    {
      "cell_type": "markdown",
      "source": [
        "User Input"
      ],
      "metadata": {
        "id": "veNUkluPoCzc"
      }
    },
    {
      "cell_type": "code",
      "source": [
        "user_name = input(\"enter your name.  \")\n",
        "print(type(user_name))"
      ],
      "metadata": {
        "colab": {
          "base_uri": "https://localhost:8080/"
        },
        "id": "S3qQ0-WYoFeq",
        "outputId": "f54bca9d-0d4a-4366-fc99-d25244c266a2"
      },
      "execution_count": 14,
      "outputs": [
        {
          "output_type": "stream",
          "name": "stdout",
          "text": [
            "enter your name.  mike\n",
            "<class 'str'>\n"
          ]
        }
      ]
    },
    {
      "cell_type": "code",
      "source": [
        "user_fav_number = input(\"enter your favorite number:  \")"
      ],
      "metadata": {
        "colab": {
          "base_uri": "https://localhost:8080/"
        },
        "id": "TLp5n4hwo_mj",
        "outputId": "7bb61c9e-643f-499b-c3b6-d8ac35565d62"
      },
      "execution_count": 15,
      "outputs": [
        {
          "name": "stdout",
          "output_type": "stream",
          "text": [
            "enter your favorite number:  51\n"
          ]
        }
      ]
    },
    {
      "cell_type": "code",
      "source": [
        "# display the variable and its type\n",
        "print(user_fav_number)\n",
        "print(type(user_fav_number))"
      ],
      "metadata": {
        "colab": {
          "base_uri": "https://localhost:8080/"
        },
        "id": "yAThoD76pQrn",
        "outputId": "e8be1a25-1703-4a70-ca83-0cfe8429aa45"
      },
      "execution_count": 16,
      "outputs": [
        {
          "output_type": "stream",
          "name": "stdout",
          "text": [
            "51\n",
            "<class 'str'>\n"
          ]
        }
      ]
    },
    {
      "cell_type": "markdown",
      "source": [
        "6.  Data Type Conversion\n"
      ],
      "metadata": {
        "id": "gsD8tbsyqAqr"
      }
    },
    {
      "cell_type": "code",
      "source": [
        "# Commands to convert --> str(input), int (input), float(input)\n",
        "\n",
        "# Convert a string data into an integer and float\n",
        "\n",
        "str_to_int = int(user_fav_number)\n",
        "print(str_to_int)\n",
        "print(type(str_to_int))\n",
        "print(type(user_fav_number))\n",
        "\n",
        "str_to_float = float(user_fav_number)\n",
        "print(str_to_float)\n",
        "print(type(float))\n",
        "print(type(user_fav_number))"
      ],
      "metadata": {
        "colab": {
          "base_uri": "https://localhost:8080/"
        },
        "id": "TT3vrVtPqErI",
        "outputId": "188bbe72-8bf0-4625-e6d0-f5ed0cc16f07"
      },
      "execution_count": 26,
      "outputs": [
        {
          "output_type": "stream",
          "name": "stdout",
          "text": [
            "51\n",
            "<class 'int'>\n",
            "<class 'str'>\n",
            "51.0\n",
            "<class 'type'>\n",
            "<class 'str'>\n"
          ]
        }
      ]
    },
    {
      "cell_type": "code",
      "source": [
        "# get user input of two different intergers and add them together\n",
        "\n",
        "n1 = int(input ('give any integer number: ')) # # make sure you put int before the input\n",
        "n2 = int(input('give one more integer: ')) # make sure you put int before the input\n",
        "print(f\"The sum of {n1} and {n2} is  {n1 + n2}\")\n"
      ],
      "metadata": {
        "colab": {
          "base_uri": "https://localhost:8080/"
        },
        "id": "K4GVTY_9qdAL",
        "outputId": "16df0437-edf8-4deb-9f5d-e9964cf8ca16"
      },
      "execution_count": 33,
      "outputs": [
        {
          "output_type": "stream",
          "name": "stdout",
          "text": [
            "give any integer number: 44\n",
            "give one more integer: 33\n",
            "The sum of 44 and 33 is  77\n"
          ]
        }
      ]
    },
    {
      "cell_type": "markdown",
      "source": [
        "# 7 Control Flow\n",
        "\n",
        "# for and while loops\n",
        "\n",
        "# conditional statements"
      ],
      "metadata": {
        "id": "xyphU76IvkjX"
      }
    },
    {
      "cell_type": "code",
      "source": [
        "# range(start, end, skip)\n",
        "\n",
        "range (1,11)\n",
        "# for loops\n",
        "\n",
        "#for index in [0,1,2,3,4]:\n",
        "#  print(index)\n",
        "\n",
        "for index in range(1,11,2):\n",
        "   print(index)"
      ],
      "metadata": {
        "colab": {
          "base_uri": "https://localhost:8080/"
        },
        "id": "2oNrPrFfvZNn",
        "outputId": "eabceb4f-650e-4cc4-a2c2-29759813f1aa"
      },
      "execution_count": 48,
      "outputs": [
        {
          "output_type": "stream",
          "name": "stdout",
          "text": [
            "1\n",
            "3\n",
            "5\n",
            "7\n",
            "9\n"
          ]
        }
      ]
    },
    {
      "cell_type": "code",
      "source": [
        "# while loop\n",
        "\n",
        "\n",
        "ct = 0\n",
        "print('--- Type \"quit\" to exit ..')\n",
        "while True:\n",
        "  obj = input(f'Enter your favorite Celestial Object {ct+1}:  ')\n",
        "  ct += 1\n",
        "  if obj.lower()  == 'quit':\n",
        "    break\n",
        "\n",
        "\n"
      ],
      "metadata": {
        "colab": {
          "base_uri": "https://localhost:8080/"
        },
        "id": "liTzWC3MwEz-",
        "outputId": "85cf91f1-0d69-4b60-e29a-7d42c20107d2"
      },
      "execution_count": 55,
      "outputs": [
        {
          "name": "stdout",
          "output_type": "stream",
          "text": [
            "--- Type \"quit\" to exit ..\n",
            "Enter your favorite Celestial Object 1:  quit\n"
          ]
        }
      ]
    },
    {
      "cell_type": "markdown",
      "source": [],
      "metadata": {
        "id": "DxAypqId1O0N"
      }
    },
    {
      "cell_type": "code",
      "source": [],
      "metadata": {
        "id": "Oz4NRiAYzcbB"
      },
      "execution_count": 56,
      "outputs": []
    },
    {
      "cell_type": "markdown",
      "source": [
        "8. Functions"
      ],
      "metadata": {
        "id": "5UtrrvmX1Svh"
      }
    },
    {
      "cell_type": "code",
      "source": [
        "# create a function to greet viewers of this section\n",
        "\n",
        "def greet():\n",
        "  print('Hey Astrophiles! ')\n",
        "\n"
      ],
      "metadata": {
        "id": "ynh9VNGe1MrL"
      },
      "execution_count": 57,
      "outputs": []
    },
    {
      "cell_type": "code",
      "source": [
        "# Call the function\n",
        "\n",
        "greet()"
      ],
      "metadata": {
        "colab": {
          "base_uri": "https://localhost:8080/"
        },
        "id": "g5gcYii01xqU",
        "outputId": "2e69ffe8-4f2f-4f0f-a8ba-8b9d42afee25"
      },
      "execution_count": 58,
      "outputs": [
        {
          "output_type": "stream",
          "name": "stdout",
          "text": [
            "Hey Astrophiles! \n"
          ]
        }
      ]
    },
    {
      "cell_type": "code",
      "source": [
        "# Define a function to greet a person whose name will be given as the imput\n",
        "\n",
        "def greet_person(name):\n",
        "  print(f'Hey {name}, I hope you are enjoying this session and learning a lot of things in PYthon')\n",
        ""
      ],
      "metadata": {
        "id": "nLSoajWb11Z8"
      },
      "execution_count": 59,
      "outputs": []
    },
    {
      "cell_type": "code",
      "source": [
        "# Call that function\n",
        "greet_person('Mike')\n"
      ],
      "metadata": {
        "colab": {
          "base_uri": "https://localhost:8080/"
        },
        "id": "Y39CYr5j2j9g",
        "outputId": "1a735a3d-0085-42ba-fe98-4216d847fd43"
      },
      "execution_count": 60,
      "outputs": [
        {
          "output_type": "stream",
          "name": "stdout",
          "text": [
            "Hey Mike, I hope you are enjoying this session and learning a lot of things in PYthon\n"
          ]
        }
      ]
    },
    {
      "cell_type": "code",
      "source": [
        "# call function again with different name\n",
        "greet_person('Mark')\n"
      ],
      "metadata": {
        "colab": {
          "base_uri": "https://localhost:8080/"
        },
        "id": "5Z76CJiZ2zuf",
        "outputId": "30d72249-e0c7-4051-fe1e-618b8cd52ac2"
      },
      "execution_count": 61,
      "outputs": [
        {
          "output_type": "stream",
          "name": "stdout",
          "text": [
            "Hey Mark, I hope you are enjoying this session and learning a lot of things in PYthon\n"
          ]
        }
      ]
    },
    {
      "cell_type": "code",
      "source": [
        "# call function to greet anyone\n",
        "\n",
        "greet_person('everyone')"
      ],
      "metadata": {
        "colab": {
          "base_uri": "https://localhost:8080/"
        },
        "id": "UHe5e-dM27tY",
        "outputId": "46466645-42c5-4005-a03f-f7757be998f9"
      },
      "execution_count": 63,
      "outputs": [
        {
          "output_type": "stream",
          "name": "stdout",
          "text": [
            "Hey everyone, I hope you are enjoying this session and learning a lot of things in PYthon\n"
          ]
        }
      ]
    },
    {
      "cell_type": "code",
      "source": [
        "# Posistional Arguments, Keyword Arguments\n",
        "\n",
        "def greeting(name,msg):\n",
        "  print(f'Hey {name}, {msg}!')"
      ],
      "metadata": {
        "id": "tfSOZLdK3HZq"
      },
      "execution_count": 64,
      "outputs": []
    },
    {
      "cell_type": "code",
      "source": [
        "#. Call this function by placing the input argeuments in the same order while building it\n",
        "\n",
        "greeting('Michael', 'Are you an Astrophile ? ')"
      ],
      "metadata": {
        "colab": {
          "base_uri": "https://localhost:8080/"
        },
        "id": "z6WfNFz43rSU",
        "outputId": "5577c3f9-286c-43e9-dcb2-fd25d0ea7f18"
      },
      "execution_count": 65,
      "outputs": [
        {
          "output_type": "stream",
          "name": "stdout",
          "text": [
            "Hey Michael, Are you an Astrophile ? !\n"
          ]
        }
      ]
    },
    {
      "cell_type": "code",
      "source": [
        "# Call the function by shifting the positions of the arguments\n",
        "greeting('Are you an Astrophile ?', \"Mike\")"
      ],
      "metadata": {
        "colab": {
          "base_uri": "https://localhost:8080/"
        },
        "id": "qDbZ0AnC4NRT",
        "outputId": "29231f9d-cf0d-471c-c0ac-61f58fb4b6f8"
      },
      "execution_count": 66,
      "outputs": [
        {
          "output_type": "stream",
          "name": "stdout",
          "text": [
            "Hey Are you an Astrophile ?, Mike!\n"
          ]
        }
      ]
    },
    {
      "cell_type": "code",
      "source": [
        "# Call this function using keyword arguments\n",
        "\n",
        "greeting(msg = 'Are you an Astrophile ?',name = \"Mike\")"
      ],
      "metadata": {
        "colab": {
          "base_uri": "https://localhost:8080/"
        },
        "id": "bjHS3r-Y41Fn",
        "outputId": "7ea98fa5-d305-4c50-9e3b-0d2ad233b512"
      },
      "execution_count": 67,
      "outputs": [
        {
          "output_type": "stream",
          "name": "stdout",
          "text": [
            "Hey Mike, Are you an Astrophile ?!\n"
          ]
        }
      ]
    },
    {
      "cell_type": "code",
      "source": [
        "# Default arguments\n",
        "\n",
        "def greeting_with_default_args(name, msg= 'Welcome to this program'):\n",
        "  print(f'Hey {name}, {msg}!')"
      ],
      "metadata": {
        "id": "PxwOxuV95U4V"
      },
      "execution_count": 69,
      "outputs": []
    },
    {
      "cell_type": "code",
      "source": [
        "# Call this function without passing msg arg\n",
        "greeting_with_default_args('Mike')"
      ],
      "metadata": {
        "colab": {
          "base_uri": "https://localhost:8080/"
        },
        "id": "Hc4Dm9N9591r",
        "outputId": "baa08fd5-a507-4406-f27b-9b01e12643cc"
      },
      "execution_count": 70,
      "outputs": [
        {
          "output_type": "stream",
          "name": "stdout",
          "text": [
            "Hey Mike, Welcome to this program!\n"
          ]
        }
      ]
    },
    {
      "cell_type": "code",
      "source": [
        "# Create a function that will add, multiply, divide, or subtract two numbers\n",
        "\n",
        "def basic_calc(n1,n2, operation):\n",
        "  if operation.lower() == 'add':\n",
        "    return n1+n2\n",
        "  elif operation.lower() == 'subtract':\n",
        "    return n1 - n2\n",
        "  elif operation.lower() == 'multiply':\n",
        "    return n1 * n2\n",
        "  elif operation.lower() == 'divide':\n",
        "    return n1 / n2\n",
        "  else:\n",
        "    print(f'operation input can either take: -add, multiply, subtract, or divide.  You gave: {operation}.  Try again'\n",
        "    )\n"
      ],
      "metadata": {
        "id": "U3WFFMV67FcT"
      },
      "execution_count": 80,
      "outputs": []
    },
    {
      "cell_type": "code",
      "source": [
        "addition = basic_calc(2,3, 'add')\n",
        "print(addition)"
      ],
      "metadata": {
        "colab": {
          "base_uri": "https://localhost:8080/"
        },
        "id": "4VENZoex7oeH",
        "outputId": "aa34afbc-03bf-4269-dd5d-896afe3c624f"
      },
      "execution_count": 74,
      "outputs": [
        {
          "output_type": "stream",
          "name": "stdout",
          "text": [
            "5\n"
          ]
        }
      ]
    },
    {
      "cell_type": "code",
      "source": [
        "multiply = basic_calc(3,3, 'multiply')\n",
        "print(multiply)"
      ],
      "metadata": {
        "colab": {
          "base_uri": "https://localhost:8080/"
        },
        "id": "ZzKrBT5084ea",
        "outputId": "9a481977-4279-42f7-f801-f79f48b23aaa"
      },
      "execution_count": 81,
      "outputs": [
        {
          "output_type": "stream",
          "name": "stdout",
          "text": [
            "9\n"
          ]
        }
      ]
    },
    {
      "cell_type": "code",
      "source": [
        "basic_calc(2,3, 'dffhgfjthjnfdgbdfgrer')"
      ],
      "metadata": {
        "colab": {
          "base_uri": "https://localhost:8080/"
        },
        "id": "6h5xoqyd9kJR",
        "outputId": "a6f9eb77-9afe-4fab-902d-e15c16f5068c"
      },
      "execution_count": 82,
      "outputs": [
        {
          "output_type": "stream",
          "name": "stdout",
          "text": [
            "operation input can either take: -add, multiply, subtract, or divide.  You gave: dffhgfjthjnfdgbdfgrer.  Try again\n"
          ]
        }
      ]
    }
  ]
}