{
  "nbformat": 4,
  "nbformat_minor": 0,
  "metadata": {
    "colab": {
      "provenance": []
    },
    "kernelspec": {
      "name": "python3",
      "display_name": "Python 3"
    },
    "language_info": {
      "name": "python"
    }
  },
  "cells": [
    {
      "cell_type": "markdown",
      "source": [
        "### 1. Build a class that does nothing"
      ],
      "metadata": {
        "id": "ph596_p621w-"
      }
    },
    {
      "cell_type": "code",
      "source": [
        "class Rocket():\n",
        "  pass"
      ],
      "metadata": {
        "id": "05MalzV52mPn"
      },
      "execution_count": 52,
      "outputs": []
    },
    {
      "cell_type": "markdown",
      "source": [
        "### 2.  Add attributes to this class\n",
        "\n",
        "*   add x and y coordinates and set both to 0\n",
        "\n",
        "\n"
      ],
      "metadata": {
        "id": "6FYd01Si2_KV"
      }
    },
    {
      "cell_type": "code",
      "source": [
        "# Building a class with attributes\n",
        "\n",
        "class Rocket():\n",
        "\n",
        "  # use special method in python to initialize the attributes from this class\n",
        "\n",
        "  def __init__(self):\n",
        "    self.x = 0\n",
        "    self.y = 0\n"
      ],
      "metadata": {
        "id": "m_urjoNS3Evf"
      },
      "execution_count": 53,
      "outputs": []
    },
    {
      "cell_type": "code",
      "source": [
        "# Create an object of the class Rocket\n",
        "\n",
        "rocket1 = Rocket()"
      ],
      "metadata": {
        "id": "doXI6LOK4NYf"
      },
      "execution_count": 54,
      "outputs": []
    },
    {
      "cell_type": "code",
      "source": [
        "#  Extract the values of x and y for that rocket1\n",
        "print(f'X coordinate for rocket1:- {rocket1.x}')\n",
        "print(f'Y coordinate for rocket1:- {rocket1.y}')\n"
      ],
      "metadata": {
        "colab": {
          "base_uri": "https://localhost:8080/"
        },
        "id": "IGvum3So4e6E",
        "outputId": "77f97eb0-bfa4-4b96-ee68-7f6ee5ad9324"
      },
      "execution_count": 55,
      "outputs": [
        {
          "output_type": "stream",
          "name": "stdout",
          "text": [
            "X coordinate for rocket1:- 0\n",
            "Y coordinate for rocket1:- 0\n"
          ]
        }
      ]
    },
    {
      "cell_type": "markdown",
      "source": [
        "### 3. Add a method that will allow your Rocket to move up"
      ],
      "metadata": {
        "id": "mlnx-2nc6gkd"
      }
    },
    {
      "cell_type": "code",
      "source": [
        " # Building a class with attributes\n",
        "\n",
        "class Rocket():\n",
        "\n",
        "  # use special method in python to initialize the attributes from this class\n",
        "\n",
        "  def __init__(self):\n",
        "    self.x = 0\n",
        "    self.y = 0\n",
        "\n",
        "  # Add a method that will make your rocket move up by 1 unit whenever it is called\n",
        "  def move_up(self):\n",
        "    self.y += 1"
      ],
      "metadata": {
        "id": "gPWCZSc24gLG"
      },
      "execution_count": 56,
      "outputs": []
    },
    {
      "cell_type": "code",
      "source": [
        "# Make orion rocket and make it move up by two units\n",
        "\n",
        "\n",
        "orion = Rocket()\n",
        "\n",
        "print(f'Current Position of Orion:- {(orion.x, orion.y)}')\n",
        "\n",
        "# Move orion up by one unit\n",
        "orion.move_up()\n",
        "print(f'Current Updated Position of Orion:- {(orion.x, orion.y)}')\n",
        "\n",
        "# Move orion up by one more unit\n",
        "orion.move_up()\n",
        "print(f'Current Updated Position after it had move one unit up:- {(orion.x, orion.y)}')\n",
        "\n"
      ],
      "metadata": {
        "colab": {
          "base_uri": "https://localhost:8080/"
        },
        "id": "H1htsAuP7Ie3",
        "outputId": "b799e1e1-42c8-4e28-bfcc-d4f7be94aaf9"
      },
      "execution_count": 57,
      "outputs": [
        {
          "output_type": "stream",
          "name": "stdout",
          "text": [
            "Current Position of Orion:- (0, 0)\n",
            "Current Updated Position of Orion:- (0, 1)\n",
            "Current Updated Position after it had move one unit up:- (0, 2)\n"
          ]
        }
      ]
    },
    {
      "cell_type": "markdown",
      "source": [
        "### 4.  Build more rocket objects"
      ],
      "metadata": {
        "id": "LesSaevk9Eo9"
      }
    },
    {
      "cell_type": "code",
      "source": [
        "# create two more rocket objects\n",
        "\n",
        "orchid = Rocket()\n",
        "mike = Rocket()\n",
        "\n"
      ],
      "metadata": {
        "id": "vQ4r8H3o9Yd1"
      },
      "execution_count": 58,
      "outputs": []
    },
    {
      "cell_type": "code",
      "source": [
        "# Print what exactly is this orion, orchid, and mike\n",
        "for obj in (orion,orchid, mike):\n",
        "  print(obj)"
      ],
      "metadata": {
        "colab": {
          "base_uri": "https://localhost:8080/"
        },
        "id": "FqZtS3v0-R5W",
        "outputId": "d6f59264-b6eb-4165-8d5d-5e162bbaef75"
      },
      "execution_count": 59,
      "outputs": [
        {
          "output_type": "stream",
          "name": "stdout",
          "text": [
            "<__main__.Rocket object at 0x7d80f8472110>\n",
            "<__main__.Rocket object at 0x7d80f8471de0>\n",
            "<__main__.Rocket object at 0x7d80f8470fa0>\n"
          ]
        }
      ]
    },
    {
      "cell_type": "code",
      "source": [
        "# Print the current locations for orion, orchid, and mike\n",
        "for obj, name in (zip((orion,orchid, mike), ('Orion', 'Orchid' , 'Mike'))):\n",
        "  print(f'The {name} is at {(obj.x, obj.y)}')"
      ],
      "metadata": {
        "colab": {
          "base_uri": "https://localhost:8080/"
        },
        "id": "-QaYZjNf-1XE",
        "outputId": "c5e753d3-13ab-4743-b2a6-6b02de741b90"
      },
      "execution_count": 60,
      "outputs": [
        {
          "output_type": "stream",
          "name": "stdout",
          "text": [
            "The Orion is at (0, 2)\n",
            "The Orchid is at (0, 0)\n",
            "The Mike is at (0, 0)\n"
          ]
        }
      ]
    },
    {
      "cell_type": "code",
      "source": [
        "# Make orchid move up by one unit\n",
        "orchid.move_up()"
      ],
      "metadata": {
        "id": "1u-K1NC5Asp7"
      },
      "execution_count": 61,
      "outputs": []
    },
    {
      "cell_type": "code",
      "source": [
        "# Print the new locations for orion, orchid, and mike\n",
        "for obj, name in (zip((orion,orchid, mike), ('Orion', 'Orchid' , 'Mike'))):\n",
        "  print(f'The {name} is at {(obj.x, obj.y)}')"
      ],
      "metadata": {
        "colab": {
          "base_uri": "https://localhost:8080/"
        },
        "id": "h8X6I0XhBKPK",
        "outputId": "38418cdb-4b78-4daf-979e-5b51668c8318"
      },
      "execution_count": 62,
      "outputs": [
        {
          "output_type": "stream",
          "name": "stdout",
          "text": [
            "The Orion is at (0, 2)\n",
            "The Orchid is at (0, 1)\n",
            "The Mike is at (0, 0)\n"
          ]
        }
      ]
    },
    {
      "cell_type": "markdown",
      "source": [
        "### 5. Customize the existing Rocket Class"
      ],
      "metadata": {
        "id": "RaWvR_tYBhU_"
      }
    },
    {
      "cell_type": "code",
      "source": [
        "# Building a class with attributes\n",
        "\n",
        "class Rocket():\n",
        "\n",
        "  # use special method in python to initialize the attributes from this class\n",
        "\n",
        "  def __init__(self,x=0, y=0):\n",
        "    self.x = x\n",
        "    self.y = y\n",
        "\n",
        "\n",
        "  # Add a method that will make your rocket move up, down, lefand t, right\n",
        "  # for whatever units\n",
        "\n",
        "  def move_rocket(self, x_increment=0, y_increment=1):\n",
        "    self.x += x_increment\n",
        "    self.y += y_increment\n"
      ],
      "metadata": {
        "id": "J5-1vDxFBtT9"
      },
      "execution_count": 95,
      "outputs": []
    },
    {
      "cell_type": "code",
      "source": [
        "rocket2 = Rocket(10,0)\n",
        "print(f'{rocket2.x, rocket2.y }')"
      ],
      "metadata": {
        "colab": {
          "base_uri": "https://localhost:8080/"
        },
        "id": "LJUfQ-IOCdrf",
        "outputId": "b6b61967-a157-49fc-f453-ad2887670b8e"
      },
      "execution_count": 96,
      "outputs": [
        {
          "output_type": "stream",
          "name": "stdout",
          "text": [
            "(10, 0)\n"
          ]
        }
      ]
    },
    {
      "cell_type": "code",
      "source": [
        "rocket3 = Rocket()     # uses default where x and y are set to zero in the constructor now\n",
        "print(f'{rocket3.x, rocket3.y}')"
      ],
      "metadata": {
        "colab": {
          "base_uri": "https://localhost:8080/"
        },
        "id": "NIwSBpfYDC7Y",
        "outputId": "124fa4d8-9e73-4e42-ffd6-59b7a1846e88"
      },
      "execution_count": 97,
      "outputs": [
        {
          "output_type": "stream",
          "name": "stdout",
          "text": [
            "(0, 0)\n"
          ]
        }
      ]
    },
    {
      "cell_type": "code",
      "source": [
        "rocket2.move_rocket(0,100)\n",
        "print(f'{rocket2.x, rocket2.y }')\n",
        "\n",
        "rocket3.move_rocket(-10, 0)\n",
        "print(f'{rocket3.x, rocket3.y }')"
      ],
      "metadata": {
        "colab": {
          "base_uri": "https://localhost:8080/"
        },
        "id": "sVcXTVRcHIZz",
        "outputId": "a1eef16b-5623-4e05-d5af-f802f790bcbb"
      },
      "execution_count": 98,
      "outputs": [
        {
          "output_type": "stream",
          "name": "stdout",
          "text": [
            "(10, 100)\n",
            "(-10, 0)\n"
          ]
        }
      ]
    },
    {
      "cell_type": "markdown",
      "source": [
        "### 6.  Add another method that calculates the distance between two rockets"
      ],
      "metadata": {
        "id": "InTNUExSI57S"
      }
    },
    {
      "cell_type": "code",
      "source": [
        "# Building a class with attributes\n",
        "\n",
        "class Rocket():\n",
        "\n",
        "  # use special method in python to initialize the attributes from this class\n",
        "\n",
        "  def __init__(self,x=0, y=0):\n",
        "    self.x = x\n",
        "    self.y = y\n",
        "\n",
        "\n",
        "  # Add a method that will make your rocket move up, down, lefand t, right\n",
        "  # for whatever units\n",
        "\n",
        "  def move_rocket(self, x_increment=0, y_increment=1):\n",
        "    self.x += x_increment\n",
        "    self.y += y_increment\n",
        "\n",
        "  # Calculate the Eucledian distance between two rockets\n",
        "  def get_distance(self, other_rocket):\n",
        "    x_diff = self.x - other_rocket.x\n",
        "    y_diff = self.y - other_rocket.y\n",
        "    distance = (x_diff**2 + y_diff**2)**0.5\n",
        "    return round(distance,3)\n",
        "\n",
        "\n"
      ],
      "metadata": {
        "id": "W9MjGB4fGlfM"
      },
      "execution_count": 100,
      "outputs": []
    },
    {
      "cell_type": "code",
      "source": [
        "rocket4 = Rocket(-10,0)\n",
        "rocket5 = Rocket(0,0)\n",
        "print(f'{rocket4.x, rocket4.y }')\n",
        "print(f'{rocket5.x, rocket5.y }')"
      ],
      "metadata": {
        "colab": {
          "base_uri": "https://localhost:8080/"
        },
        "id": "X0wKaAMRLXq1",
        "outputId": "a7381a14-b79a-4942-95b0-60f5c6cde16a"
      },
      "execution_count": 101,
      "outputs": [
        {
          "output_type": "stream",
          "name": "stdout",
          "text": [
            "(-10, 0)\n",
            "(0, 0)\n"
          ]
        }
      ]
    },
    {
      "cell_type": "code",
      "source": [
        "# Distance of rocket4 wrt rocket5\n",
        "distance_45 = rocket5.get_distance(rocket4)\n",
        "print(f'The distance between rocket4 wrt rocket5 is:   {distance_45} (3dp)')"
      ],
      "metadata": {
        "colab": {
          "base_uri": "https://localhost:8080/"
        },
        "id": "pjLn7TWSL_y6",
        "outputId": "5846a864-e9af-4fe4-e69b-6b8daee82feb"
      },
      "execution_count": 102,
      "outputs": [
        {
          "output_type": "stream",
          "name": "stdout",
          "text": [
            "The distance between rocket4 wrt rocket5 is:   10.0 (3dp)\n"
          ]
        }
      ]
    },
    {
      "cell_type": "code",
      "source": [
        "# Move rocket4 to (-15, 10)\n",
        "rocket4.move_rocket(-5,10)\n",
        "\n",
        "# move rocket5 to (0, 15)\n",
        "rocket5.move_rocket(0,15)\n",
        "\n",
        "# Get the new locations of rocket4 and rocket 5\n",
        "print(f'{rocket4.x, rocket4.y }')\n",
        "print(f'{rocket5.x, rocket5.y }')"
      ],
      "metadata": {
        "colab": {
          "base_uri": "https://localhost:8080/"
        },
        "id": "xBNINgq-MvWo",
        "outputId": "6fc5e3fa-4179-4cf5-9f20-d5b7cb30cea9"
      },
      "execution_count": 103,
      "outputs": [
        {
          "output_type": "stream",
          "name": "stdout",
          "text": [
            "(-15, 10)\n",
            "(0, 15)\n"
          ]
        }
      ]
    },
    {
      "cell_type": "code",
      "source": [
        "((-15)**2 + 5**2)**0.5"
      ],
      "metadata": {
        "colab": {
          "base_uri": "https://localhost:8080/"
        },
        "id": "Vks3AwFZOVt1",
        "outputId": "fb3efc25-f565-410d-d705-f95aa5f9247f"
      },
      "execution_count": 106,
      "outputs": [
        {
          "output_type": "execute_result",
          "data": {
            "text/plain": [
              "15.811388300841896"
            ]
          },
          "metadata": {},
          "execution_count": 106
        }
      ]
    },
    {
      "cell_type": "code",
      "source": [
        "# New distance of rocket4 wrt rocket5\n",
        "distance_45 = rocket5.get_distance(rocket4)\n",
        "print(f'The distance between rocket4 wrt rocket5 is:   {distance_45} (3dp)')"
      ],
      "metadata": {
        "colab": {
          "base_uri": "https://localhost:8080/"
        },
        "id": "JKhJbnrPN8NG",
        "outputId": "11feee37-9579-44e4-a114-2e093797470b"
      },
      "execution_count": 104,
      "outputs": [
        {
          "output_type": "stream",
          "name": "stdout",
          "text": [
            "The distance between rocket4 wrt rocket5 is:   15.811 (3dp)\n"
          ]
        }
      ]
    }
  ]
}