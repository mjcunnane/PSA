{
  "nbformat": 4,
  "nbformat_minor": 0,
  "metadata": {
    "colab": {
      "provenance": []
    },
    "kernelspec": {
      "name": "python3",
      "display_name": "Python 3"
    },
    "language_info": {
      "name": "python"
    }
  },
  "cells": [
    {
      "cell_type": "markdown",
      "source": [
        "Introduction to NumPy and Matplotlib\n",
        "\n",
        "1.  Import the libraries\n"
      ],
      "metadata": {
        "id": "oj1gKxo-uyGh"
      }
    },
    {
      "cell_type": "code",
      "source": [
        "import numpy as np\n",
        "import matplotlib.pyplot as plt"
      ],
      "metadata": {
        "id": "DCQfa8Ghu5Rc"
      },
      "execution_count": 2,
      "outputs": []
    },
    {
      "cell_type": "markdown",
      "source": [
        "Convert a list into an numpy array"
      ],
      "metadata": {
        "id": "gHUfv0wBw1Th"
      }
    },
    {
      "cell_type": "code",
      "source": [
        "# Create list of new numbers\n",
        "lst = [1,2,3,4,6,9,0]\n",
        "print(type(lst))\n",
        "\n",
        "# Convert that list into an array\n",
        "arr = np.array(lst)\n",
        "print(type(arr))"
      ],
      "metadata": {
        "colab": {
          "base_uri": "https://localhost:8080/"
        },
        "id": "wk5NA5l1xAg8",
        "outputId": "52f8eb70-1a90-4c55-d87d-8d45910e3943"
      },
      "execution_count": 5,
      "outputs": [
        {
          "output_type": "stream",
          "name": "stdout",
          "text": [
            "<class 'list'>\n",
            "<class 'numpy.ndarray'>\n"
          ]
        }
      ]
    },
    {
      "cell_type": "code",
      "source": [
        "# create a 1D array\n",
        "\n",
        "arr1 = np.array([1,2,3,4,5])\n",
        "print(arr1)\n",
        "print(type(arr1))"
      ],
      "metadata": {
        "colab": {
          "base_uri": "https://localhost:8080/"
        },
        "id": "ALpmqLkXxYRd",
        "outputId": "a87228d0-7c2c-4bf6-ecb3-1a24b8e8b812"
      },
      "execution_count": 6,
      "outputs": [
        {
          "output_type": "stream",
          "name": "stdout",
          "text": [
            "[1 2 3 4 5]\n",
            "<class 'numpy.ndarray'>\n"
          ]
        }
      ]
    },
    {
      "cell_type": "markdown",
      "source": [
        "3.  Check Datay Type, Dimensions and Shapes of the array"
      ],
      "metadata": {
        "id": "ND2UL2WiysIh"
      }
    },
    {
      "cell_type": "code",
      "source": [
        "# Check Data Type of arr1\n",
        "arr1.dtype"
      ],
      "metadata": {
        "colab": {
          "base_uri": "https://localhost:8080/"
        },
        "id": "4IlyzIHcydWp",
        "outputId": "7a71e8f6-196c-400a-93fd-9716bf8601bd"
      },
      "execution_count": 8,
      "outputs": [
        {
          "output_type": "execute_result",
          "data": {
            "text/plain": [
              "dtype('int64')"
            ]
          },
          "metadata": {},
          "execution_count": 8
        }
      ]
    },
    {
      "cell_type": "code",
      "source": [
        "# Check the Dimensions of arr1\n",
        "arr1.ndim"
      ],
      "metadata": {
        "colab": {
          "base_uri": "https://localhost:8080/"
        },
        "id": "j534i7qizEUn",
        "outputId": "64a2c7de-e251-4271-b727-7c37ecabbadd"
      },
      "execution_count": 9,
      "outputs": [
        {
          "output_type": "execute_result",
          "data": {
            "text/plain": [
              "1"
            ]
          },
          "metadata": {},
          "execution_count": 9
        }
      ]
    },
    {
      "cell_type": "code",
      "source": [
        "# Create a 2D with 1 row and 5 cols\n",
        "arr2 = np.array([[1,2,3,4,5]])\n"
      ],
      "metadata": {
        "id": "7TgdEDa3zfKd"
      },
      "execution_count": 11,
      "outputs": []
    },
    {
      "cell_type": "code",
      "source": [
        "# Check the ndim for arr2\n",
        "arr2.ndim"
      ],
      "metadata": {
        "colab": {
          "base_uri": "https://localhost:8080/"
        },
        "id": "PgfMeU0uz41m",
        "outputId": "a72240b3-2fb6-49dd-99fb-35e2fd2e87b3"
      },
      "execution_count": 12,
      "outputs": [
        {
          "output_type": "execute_result",
          "data": {
            "text/plain": [
              "2"
            ]
          },
          "metadata": {},
          "execution_count": 12
        }
      ]
    },
    {
      "cell_type": "code",
      "source": [
        "# Check trhe shape of arr1 and arr2\n",
        "print(arr1.shape)\n",
        "print(arr2.shape)"
      ],
      "metadata": {
        "colab": {
          "base_uri": "https://localhost:8080/"
        },
        "id": "DM6Mhfexz_yg",
        "outputId": "2c6335e6-a93d-4b30-e938-75e8d4cd2d23"
      },
      "execution_count": 13,
      "outputs": [
        {
          "output_type": "stream",
          "name": "stdout",
          "text": [
            "(5,)\n",
            "(1, 5)\n"
          ]
        }
      ]
    },
    {
      "cell_type": "code",
      "source": [
        "# Create a 2D array of shape 3x3 with values between 1 to 9 (must be float)\n",
        "\n",
        "arr3 = np.array([[1,2,3],\n",
        "          [4,5,6],\n",
        "          [7,8,9]], dtype='float')\n"
      ],
      "metadata": {
        "id": "trELUHws0KYd"
      },
      "execution_count": 15,
      "outputs": []
    },
    {
      "cell_type": "code",
      "source": [
        "# chck the shape of arr3, ndim,dtype\n",
        "print(arr3.shape)\n",
        "print(arr3.ndim)\n",
        "print(arr3.dtype)\n"
      ],
      "metadata": {
        "colab": {
          "base_uri": "https://localhost:8080/"
        },
        "id": "RXY86WUm1Gkt",
        "outputId": "c4981189-54ec-46f3-8f49-4eff35e75355"
      },
      "execution_count": 16,
      "outputs": [
        {
          "output_type": "stream",
          "name": "stdout",
          "text": [
            "(3, 3)\n",
            "2\n",
            "float64\n"
          ]
        }
      ]
    },
    {
      "cell_type": "markdown",
      "source": [
        "4.  Different ways to create numpy arrays\n"
      ],
      "metadata": {
        "id": "MzU9sG132gxO"
      }
    },
    {
      "cell_type": "code",
      "source": [
        "# arange\n",
        "arange_arr = np.arange(1,10,1)"
      ],
      "metadata": {
        "id": "m-KC4ITp1qmn"
      },
      "execution_count": 19,
      "outputs": []
    },
    {
      "cell_type": "code",
      "source": [
        "# Reshape this array into a 3x3\n",
        "reshaped_array= arange_arr.reshape(3,3)\n",
        "reshaped_array"
      ],
      "metadata": {
        "colab": {
          "base_uri": "https://localhost:8080/"
        },
        "id": "H0cQe0vU2yqk",
        "outputId": "c7430459-ffbe-4457-e4a9-0fa76307c38c"
      },
      "execution_count": 22,
      "outputs": [
        {
          "output_type": "execute_result",
          "data": {
            "text/plain": [
              "array([[1, 2, 3],\n",
              "       [4, 5, 6],\n",
              "       [7, 8, 9]])"
            ]
          },
          "metadata": {},
          "execution_count": 22
        }
      ]
    },
    {
      "cell_type": "code",
      "source": [
        "# Check the data type of reshaped_array\n",
        "reshaped_array.dtype"
      ],
      "metadata": {
        "colab": {
          "base_uri": "https://localhost:8080/"
        },
        "id": "9m8JJE_j4jol",
        "outputId": "dbed3fff-6dab-4f29-87cf-1a551452fbd1"
      },
      "execution_count": 24,
      "outputs": [
        {
          "output_type": "execute_result",
          "data": {
            "text/plain": [
              "dtype('int64')"
            ]
          },
          "metadata": {},
          "execution_count": 24
        }
      ]
    },
    {
      "cell_type": "code",
      "source": [
        "# Convert this into float32 dataytype\n",
        "reshaped_array_float = reshaped_array.astype(np.float32)\n",
        "reshaped_array_float.dtype"
      ],
      "metadata": {
        "colab": {
          "base_uri": "https://localhost:8080/"
        },
        "id": "WHfGIUTM4z5u",
        "outputId": "435ae08e-a056-4c92-d283-73ce6210cc00"
      },
      "execution_count": 36,
      "outputs": [
        {
          "output_type": "execute_result",
          "data": {
            "text/plain": [
              "dtype('float32')"
            ]
          },
          "metadata": {},
          "execution_count": 36
        }
      ]
    },
    {
      "cell_type": "markdown",
      "source": [
        "2. Linspace"
      ],
      "metadata": {
        "id": "o71xd2cc6AQn"
      }
    },
    {
      "cell_type": "code",
      "source": [
        "np.linspace(1,  5,  4)"
      ],
      "metadata": {
        "colab": {
          "base_uri": "https://localhost:8080/"
        },
        "id": "O-kob8Cz6EqI",
        "outputId": "971428c3-c7e3-4ff5-ca73-78d4c9e80f2f"
      },
      "execution_count": 37,
      "outputs": [
        {
          "output_type": "execute_result",
          "data": {
            "text/plain": [
              "array([1.        , 2.33333333, 3.66666667, 5.        ])"
            ]
          },
          "metadata": {},
          "execution_count": 37
        }
      ]
    },
    {
      "cell_type": "markdown",
      "source": [],
      "metadata": {
        "id": "XRQbtNtK4jGb"
      }
    },
    {
      "cell_type": "code",
      "source": [
        "3.6666 - 2.3333"
      ],
      "metadata": {
        "colab": {
          "base_uri": "https://localhost:8080/"
        },
        "id": "G3d4JH3C33xb",
        "outputId": "2acaa86f-0ff9-46e9-ed59-5d14c02f0881"
      },
      "execution_count": 38,
      "outputs": [
        {
          "output_type": "execute_result",
          "data": {
            "text/plain": [
              "1.3333"
            ]
          },
          "metadata": {},
          "execution_count": 38
        }
      ]
    },
    {
      "cell_type": "code",
      "source": [
        "linspace_array = np.linspace(1,10,14)\n",
        "linspace_array"
      ],
      "metadata": {
        "colab": {
          "base_uri": "https://localhost:8080/"
        },
        "id": "EWfTke9N6Zk_",
        "outputId": "d054514a-4a29-4813-d47a-e29b733de57e"
      },
      "execution_count": 41,
      "outputs": [
        {
          "output_type": "execute_result",
          "data": {
            "text/plain": [
              "array([ 1.        ,  1.69230769,  2.38461538,  3.07692308,  3.76923077,\n",
              "        4.46153846,  5.15384615,  5.84615385,  6.53846154,  7.23076923,\n",
              "        7.92307692,  8.61538462,  9.30769231, 10.        ])"
            ]
          },
          "metadata": {},
          "execution_count": 41
        }
      ]
    },
    {
      "cell_type": "code",
      "source": [
        "# 3. Zeros\n",
        "\n",
        "array_of_zeros = np.zeros((2,2))\n",
        "print(array_of_zeros)"
      ],
      "metadata": {
        "colab": {
          "base_uri": "https://localhost:8080/"
        },
        "id": "s4raE-Yu6qa_",
        "outputId": "55315bdb-2a15-49bd-be5e-ec4c52eb6093"
      },
      "execution_count": 42,
      "outputs": [
        {
          "output_type": "stream",
          "name": "stdout",
          "text": [
            "[[0. 0.]\n",
            " [0. 0.]]\n"
          ]
        }
      ]
    },
    {
      "cell_type": "code",
      "source": [
        "# 4.  Ones\n",
        "arrays_of_ones = np.ones((3,3))\n",
        "print(arrays_of_ones)"
      ],
      "metadata": {
        "colab": {
          "base_uri": "https://localhost:8080/"
        },
        "id": "51uPzkhT6v4o",
        "outputId": "6353e89d-0d91-49c4-92b3-d978bcaabcb0"
      },
      "execution_count": 47,
      "outputs": [
        {
          "output_type": "stream",
          "name": "stdout",
          "text": [
            "[[1. 1. 1.]\n",
            " [1. 1. 1.]\n",
            " [1. 1. 1.]]\n"
          ]
        }
      ]
    },
    {
      "cell_type": "markdown",
      "source": [
        "### Create arrays of random numbers"
      ],
      "metadata": {
        "id": "roIeLWDI8A-d"
      }
    },
    {
      "cell_type": "code",
      "source": [
        "# 1.  array of random numbers between 0 (incl)to 1(excl)\n",
        "np.random.rand(2)"
      ],
      "metadata": {
        "colab": {
          "base_uri": "https://localhost:8080/"
        },
        "id": "NCAgY-rF7fth",
        "outputId": "3236fbae-a46f-4f2f-f77a-9d76a410a487"
      },
      "execution_count": 55,
      "outputs": [
        {
          "output_type": "execute_result",
          "data": {
            "text/plain": [
              "array([0.83512731, 0.84552748])"
            ]
          },
          "metadata": {},
          "execution_count": 55
        }
      ]
    },
    {
      "cell_type": "code",
      "source": [
        "# 2. Array of random integers between two limits\n",
        "np.random.randint(low=0, high=11, size=(2,2))"
      ],
      "metadata": {
        "colab": {
          "base_uri": "https://localhost:8080/"
        },
        "id": "AjsyrPi38Xg-",
        "outputId": "86013ac6-db4b-447d-99e8-5c9a456270ea"
      },
      "execution_count": 59,
      "outputs": [
        {
          "output_type": "execute_result",
          "data": {
            "text/plain": [
              "array([[0, 8],\n",
              "       [6, 6]])"
            ]
          },
          "metadata": {},
          "execution_count": 59
        }
      ]
    },
    {
      "cell_type": "code",
      "source": [
        "# 3. Fix an array with the same type of randomness\n",
        "np.random.seed(42)\n",
        "np.random.randint(low=0, high=11, size=(2,2))\n"
      ],
      "metadata": {
        "colab": {
          "base_uri": "https://localhost:8080/"
        },
        "id": "pX4_ke2u83Rx",
        "outputId": "c0c96ff2-c4de-4bfc-d688-5794340b7452"
      },
      "execution_count": 72,
      "outputs": [
        {
          "output_type": "execute_result",
          "data": {
            "text/plain": [
              "array([[ 6,  3],\n",
              "       [10,  7]])"
            ]
          },
          "metadata": {},
          "execution_count": 72
        }
      ]
    },
    {
      "cell_type": "markdown",
      "source": [
        "### 6. Create the first visualization using matplotlib.pyplot"
      ],
      "metadata": {
        "id": "Ar9mhXS__GFx"
      }
    },
    {
      "cell_type": "code",
      "source": [
        "# Create a line plot of a quadratic curve\n",
        "x = np.linspace(-10,10, 10)\n",
        "y = x**2\n",
        "print(x)\n",
        "print(y)"
      ],
      "metadata": {
        "colab": {
          "base_uri": "https://localhost:8080/"
        },
        "id": "zuHUAR5O_Uo8",
        "outputId": "08972f53-88ee-4bc9-e2ce-5768fe60040b"
      },
      "execution_count": 78,
      "outputs": [
        {
          "output_type": "stream",
          "name": "stdout",
          "text": [
            "[-10.          -7.77777778  -5.55555556  -3.33333333  -1.11111111\n",
            "   1.11111111   3.33333333   5.55555556   7.77777778  10.        ]\n",
            "[100.          60.49382716  30.86419753  11.11111111   1.2345679\n",
            "   1.2345679   11.11111111  30.86419753  60.49382716 100.        ]\n"
          ]
        }
      ]
    },
    {
      "cell_type": "code",
      "source": [
        "print(np.array([1,2,3])**2)"
      ],
      "metadata": {
        "colab": {
          "base_uri": "https://localhost:8080/"
        },
        "id": "oPfydfjRASc0",
        "outputId": "c44d0112-95af-4c74-d3ee-fd07d74889e6"
      },
      "execution_count": 81,
      "outputs": [
        {
          "output_type": "stream",
          "name": "stdout",
          "text": [
            "[1 4 9]\n"
          ]
        }
      ]
    },
    {
      "cell_type": "markdown",
      "source": [],
      "metadata": {
        "id": "l2uAHoZv-_Nf"
      }
    },
    {
      "cell_type": "code",
      "source": [
        "# # Create data to generate of a line plot\n",
        "x = np.linspace(-10,10, 50)\n",
        "y = x**2\n",
        "\n",
        "# Create a line plot of a quadratic curve using the above data\n",
        "\n",
        "#plt.plot(x,y)\n",
        "plt.scatter(x,y)\n",
        "plt.show()"
      ],
      "metadata": {
        "colab": {
          "base_uri": "https://localhost:8080/",
          "height": 430
        },
        "id": "q1szSmWq99cU",
        "outputId": "1c1031f8-994f-4f9d-e591-c79de575e40d"
      },
      "execution_count": 92,
      "outputs": [
        {
          "output_type": "display_data",
          "data": {
            "text/plain": [
              "<Figure size 640x480 with 1 Axes>"
            ],
            "image/png": "[encoded data removed]"
          },
          "metadata": {}
        }
      ]
    },
    {
      "cell_type": "markdown",
      "source": [
        "### 7.  Customize the plots"
      ],
      "metadata": {
        "id": "ISYns1a9D143"
      }
    },
    {
      "cell_type": "code",
      "source": [
        "# # Create data to generate of a line plot\n",
        "x = np.linspace(-10,10, 50)\n",
        "y = x**2\n",
        "\n",
        "# Create a line plot of a quadratic curve using the above data\n",
        "plt.figure(figsize=(8,3))\n",
        "plt.grid() # puts a grid on the graph\n",
        "#plt.plot(x,y)\n",
        "plt.title('Visualizing the Quadratic Data', color='maroon', weight='bold', fontsize=15) # more colors from\n",
        "plt.xlabel('X  Values Created using Linspace', color ='m', fontsize=14)                # matplotlib color docsset\n",
        "plt.ylabel('Y Values Created using Linspace', color ='r', fontsize=10)\n",
        "plt.scatter(x,y)\n",
        "#plt.axis('off') # gets rid of the axis names etc\n",
        "plt.show()"
      ],
      "metadata": {
        "colab": {
          "base_uri": "https://localhost:8080/",
          "height": 340
        },
        "id": "WJC9IhuYBPc7",
        "outputId": "c267972c-04c3-4fdd-ab7e-1f3102f0dda5"
      },
      "execution_count": 114,
      "outputs": [
        {
          "output_type": "display_data",
          "data": {
            "text/plain": [
              "<Figure size 800x300 with 1 Axes>"
            ],
            "image/png": "[encoded data removed]"
          },
          "metadata": {}
        }
      ]
    },
    {
      "cell_type": "code",
      "source": [],
      "metadata": {
        "id": "B-DlcmZJEQ9c"
      },
      "execution_count": null,
      "outputs": []
    }
  ]
}